{
  "nbformat": 4,
  "nbformat_minor": 0,
  "metadata": {
    "colab": {
      "provenance": []
    },
    "kernelspec": {
      "name": "python3",
      "display_name": "Python 3"
    },
    "language_info": {
      "name": "python"
    }
  },
  "cells": [
    {
      "cell_type": "markdown",
      "source": [
        "Question 1: What is Logistic Regression, and how does it differ from Linear Regression?\n"
      ],
      "metadata": {
        "id": "fV5cBW3RApG7"
      }
    },
    {
      "cell_type": "markdown",
      "source": [
        "Answer:\n",
        "\n",
        " Logistic Regression is a statistical method used for binary classification problems, where the output variable can take one of two possible values (e.g., Yes/No, 0/1, Spam/Not Spam). It predicts the probability of the target variable belonging to a particular class using the logistic (sigmoid) function, which maps predicted values between 0 and 1.\n",
        "Key differences from Linear Regression:\n",
        "Output Type – Linear Regression predicts continuous numerical values, while Logistic Regression predicts probabilities (which are later converted to classes).\n",
        "\n",
        "\n",
        "Equation Used – Linear Regression uses a straight-line equation (y = β₀ + β₁x₁ + ...), whereas Logistic Regression uses the logistic function to model the log-odds of the target.\n",
        "\n",
        "\n",
        "Loss Function – Linear Regression uses Mean Squared Error (MSE), whereas Logistic Regression uses Log Loss (cross-entropy loss).\n"
      ],
      "metadata": {
        "id": "YBL6K3xHAtEQ"
      }
    },
    {
      "cell_type": "markdown",
      "source": [
        "Question 2: Explain the role of the Sigmoid function in Logistic Regression.\n"
      ],
      "metadata": {
        "id": "cVA5h7x0AwVw"
      }
    },
    {
      "cell_type": "markdown",
      "source": [
        "Answer:\n",
        "\n",
        " The Sigmoid function is used to map predicted values from any real number to a range between 0 and 1. Its formula is:\n",
        "σ(z)=11+e−z\\sigma(z) = \\frac{1}{1 + e^{-z}}σ(z)=1+e−z1​\n",
        "Role in Logistic Regression:\n",
        "Converts the linear combination of features into a probability.\n",
        "\n",
        "\n",
        "Allows us to interpret the model’s output as the likelihood of belonging to the positive class.\n",
        "\n",
        "\n",
        "Facilitates decision-making by applying a threshold (commonly 0.5) to assign class labels.\n"
      ],
      "metadata": {
        "id": "eGW8txI_Ay2Z"
      }
    },
    {
      "cell_type": "markdown",
      "source": [
        "Question 3: What is Regularization in Logistic Regression and why is it needed?\n"
      ],
      "metadata": {
        "id": "-ZZTknNXA1XC"
      }
    },
    {
      "cell_type": "markdown",
      "source": [
        "Answer:\n",
        "\n",
        " Regularization is a technique to prevent overfitting by adding a penalty term to the loss function of the model.\n",
        "Types in Logistic Regression:\n",
        "L1 Regularization (Lasso) – Adds the absolute value of coefficients to the penalty, leading to sparse models (some coefficients become zero).\n",
        "\n",
        "\n",
        "L2 Regularization (Ridge) – Adds the squared magnitude of coefficients to the penalty, reducing model complexity without making coefficients exactly zero.\n",
        "\n",
        "\n",
        "Need:\n",
        "Controls large coefficients that may cause overfitting.\n",
        "\n",
        "\n",
        "Improves generalization to unseen data.\n",
        "\n",
        "\n",
        "Handles multicollinearity among features.\n"
      ],
      "metadata": {
        "id": "B658zWtpA4ra"
      }
    },
    {
      "cell_type": "markdown",
      "source": [
        "Question 4: What are some common evaluation metrics for classification models, and why are they important?"
      ],
      "metadata": {
        "id": "QyaO-k80BAlD"
      }
    },
    {
      "cell_type": "markdown",
      "source": [
        "Answer:\n",
        " Common Metrics:\n",
        "Accuracy – Proportion of correct predictions to total predictions.\n",
        "\n",
        "\n",
        "Precision – Proportion of correctly predicted positives to total predicted positives.\n",
        "\n",
        "\n",
        "Recall (Sensitivity) – Proportion of correctly predicted positives to all actual positives.\n",
        "\n",
        "\n",
        "F1-score – Harmonic mean of Precision and Recall, useful for imbalanced datasets.\n",
        "\n",
        "\n",
        "ROC-AUC – Measures the model’s ability to distinguish between classes.\n",
        "\n",
        "\n",
        "Importance:\n",
        "Different metrics capture different aspects of performance.\n",
        "\n",
        "\n",
        "In imbalanced datasets, accuracy may be misleading; metrics like Precision, Recall, and F1-score provide better insight.\n"
      ],
      "metadata": {
        "id": "HlXAvE_eBBQK"
      }
    },
    {
      "cell_type": "markdown",
      "source": [
        "Question 5: Write a Python program that loads a CSV file into a Pandas DataFrame, splits into train/test sets, trains a Logistic Regression model, and prints its accuracy."
      ],
      "metadata": {
        "id": "8ZsR2UWRBF8T"
      }
    },
    {
      "cell_type": "code",
      "execution_count": 8,
      "metadata": {
        "colab": {
          "base_uri": "https://localhost:8080/"
        },
        "id": "g-eJNuqA_DRQ",
        "outputId": "2b64b7ac-3728-4616-93df-df1b11bcdbcf"
      },
      "outputs": [
        {
          "output_type": "stream",
          "name": "stdout",
          "text": [
            "Accuracy: 1.0\n"
          ]
        }
      ],
      "source": [
        "import pandas as pd\n",
        "from sklearn.model_selection import train_test_split\n",
        "from sklearn.linear_model import LogisticRegression\n",
        "from sklearn.metrics import accuracy_score\n",
        "from sklearn.datasets import load_iris\n",
        "\n",
        "# Load a dataset (Iris) and convert to DataFrame\n",
        "iris = load_iris(as_frame=True)\n",
        "df = iris.frame\n",
        "\n",
        "# Features (X) and Target (y)\n",
        "X = df.drop(\"target\", axis=1)\n",
        "y = df[\"target\"]\n",
        "\n",
        "# Split into train and test sets\n",
        "X_train, X_test, y_train, y_test = train_test_split(X, y, test_size=0.2, random_state=42)\n",
        "\n",
        "# Train Logistic Regression model\n",
        "model = LogisticRegression(max_iter=1000)\n",
        "model.fit(X_train, y_train)\n",
        "\n",
        "# Predict and calculate accuracy\n",
        "y_pred = model.predict(X_test)\n",
        "accuracy = accuracy_score(y_test, y_pred)\n",
        "\n",
        "print(\"Accuracy:\", accuracy)\n",
        "\n"
      ]
    },
    {
      "cell_type": "markdown",
      "source": [
        "Question 6: Write a Python program to train a Logistic Regression model using L2 regularization (Ridge) and print the model coefficients and accuracy."
      ],
      "metadata": {
        "id": "DKt3n9tuBRF1"
      }
    },
    {
      "cell_type": "code",
      "source": [
        "import pandas as pd\n",
        "from sklearn.model_selection import train_test_split\n",
        "from sklearn.linear_model import LogisticRegression\n",
        "from sklearn.metrics import accuracy_score\n",
        "from sklearn.datasets import load_iris\n",
        "\n",
        "# Load dataset (Iris)\n",
        "iris = load_iris(as_frame=True)\n",
        "df = iris.frame\n",
        "\n",
        "# Features and Target\n",
        "X = df.drop(\"target\", axis=1)\n",
        "y = df[\"target\"]\n",
        "\n",
        "# Split train/test sets\n",
        "X_train, X_test, y_train, y_test = train_test_split(X, y, test_size=0.2, random_state=42)\n",
        "\n",
        "# Logistic Regression with L2 regularization (Ridge)\n",
        "model = LogisticRegression(penalty=\"l2\", solver=\"lbfgs\", max_iter=1000)\n",
        "model.fit(X_train, y_train)\n",
        "\n",
        "# Print model coefficients and accuracy\n",
        "print(\"========== Logistic Regression with L2 Regularization ==========\")\n",
        "print(\"Model Coefficients (weights for each feature):\")\n",
        "print(model.coef_)\n",
        "\n",
        "y_pred = model.predict(X_test)\n",
        "accuracy = accuracy_score(y_test, y_pred)\n",
        "\n",
        "print(\"\\nAccuracy of the model:\", accuracy)\n",
        "\n"
      ],
      "metadata": {
        "colab": {
          "base_uri": "https://localhost:8080/"
        },
        "id": "J4NqmeUWBTTN",
        "outputId": "1d5eb079-170c-4a47-ffea-e31cef9b19b5"
      },
      "execution_count": 13,
      "outputs": [
        {
          "output_type": "stream",
          "name": "stdout",
          "text": [
            "========== Logistic Regression with L2 Regularization ==========\n",
            "Model Coefficients (weights for each feature):\n",
            "[[-0.39345607  0.96251768 -2.37512436 -0.99874594]\n",
            " [ 0.50843279 -0.25482714 -0.21301129 -0.77574766]\n",
            " [-0.11497673 -0.70769055  2.58813565  1.7744936 ]]\n",
            "\n",
            "Accuracy of the model: 1.0\n"
          ]
        }
      ]
    },
    {
      "cell_type": "markdown",
      "source": [
        "Question 7: Write a Python program to train a Logistic Regression model for multiclass classification using multi_class='ovr' and print the classification report."
      ],
      "metadata": {
        "id": "CjfQH2ShBYp1"
      }
    },
    {
      "cell_type": "code",
      "source": [
        "import pandas as pd\n",
        "from sklearn.model_selection import train_test_split\n",
        "from sklearn.linear_model import LogisticRegression\n",
        "from sklearn.metrics import classification_report\n",
        "from sklearn.datasets import load_iris\n",
        "from sklearn.multiclass import OneVsRestClassifier\n",
        "\n",
        "# Load dataset (Iris)\n",
        "iris = load_iris(as_frame=True)\n",
        "df = iris.frame\n",
        "\n",
        "# Features and Target\n",
        "X = df.drop(\"target\", axis=1)\n",
        "y = df[\"target\"]\n",
        "\n",
        "# Split train/test sets\n",
        "X_train, X_test, y_train, y_test = train_test_split(X, y, test_size=0.2, random_state=42)\n",
        "\n",
        "# Option 1 (as per assignment, but deprecated warning will show):\n",
        "# model = LogisticRegression(multi_class=\"ovr\", solver=\"lbfgs\", max_iter=1000)\n",
        "\n",
        "# ✅ Option 2 (recommended way, avoids warning)\n",
        "model = OneVsRestClassifier(LogisticRegression(solver=\"lbfgs\", max_iter=1000))\n",
        "\n",
        "# Train the model\n",
        "model.fit(X_train, y_train)\n",
        "\n",
        "# Predict\n",
        "y_pred = model.predict(X_test)\n",
        "\n",
        "# Print classification report\n",
        "print(\"========== Logistic Regression (One-vs-Rest) ==========\")\n",
        "print(classification_report(y_test, y_pred, target_names=iris.target_names))\n"
      ],
      "metadata": {
        "colab": {
          "base_uri": "https://localhost:8080/"
        },
        "id": "f-6T8m9rBZqe",
        "outputId": "f94f731a-b6e9-4553-83af-b872cf7746df"
      },
      "execution_count": 14,
      "outputs": [
        {
          "output_type": "stream",
          "name": "stdout",
          "text": [
            "========== Logistic Regression (One-vs-Rest) ==========\n",
            "              precision    recall  f1-score   support\n",
            "\n",
            "      setosa       1.00      1.00      1.00        10\n",
            "  versicolor       1.00      0.89      0.94         9\n",
            "   virginica       0.92      1.00      0.96        11\n",
            "\n",
            "    accuracy                           0.97        30\n",
            "   macro avg       0.97      0.96      0.97        30\n",
            "weighted avg       0.97      0.97      0.97        30\n",
            "\n"
          ]
        }
      ]
    },
    {
      "cell_type": "markdown",
      "source": [
        "Question 8:  Write a Python program to apply GridSearchCV to tune C and penalty hyperparameters for Logistic Regression and print the best parameters and validation accuracy."
      ],
      "metadata": {
        "id": "UAUhJHqwBgz-"
      }
    },
    {
      "cell_type": "code",
      "source": [
        "from sklearn.model_selection import GridSearchCV\n",
        "\n",
        "\n",
        "params = {\n",
        "    'C': [0.01, 0.1, 1, 10],\n",
        "    'penalty': ['l1', 'l2'],\n",
        "    'solver': ['liblinear']\n",
        "}\n",
        "\n",
        "\n",
        "grid = GridSearchCV(LogisticRegression(max_iter=1000), params, cv=5)\n",
        "grid.fit(X_train, y_train)\n",
        "\n",
        "\n",
        "print(\"Best Parameters:\", grid.best_params_)\n",
        "print(\"Validation Accuracy:\", grid.best_score_)"
      ],
      "metadata": {
        "colab": {
          "base_uri": "https://localhost:8080/"
        },
        "id": "PXRJgARSBlXH",
        "outputId": "746a7459-c900-4259-e43f-2c12ff631760"
      },
      "execution_count": 4,
      "outputs": [
        {
          "output_type": "stream",
          "name": "stdout",
          "text": [
            "Best Parameters: {'C': 10, 'penalty': 'l1', 'solver': 'liblinear'}\n",
            "Validation Accuracy: 0.9583333333333334\n"
          ]
        }
      ]
    },
    {
      "cell_type": "markdown",
      "source": [
        "Question 9: Write a Python program to standardize the features before training Logistic Regression and compare the model's accuracy with and without scaling."
      ],
      "metadata": {
        "id": "-WC0WHQiBrTA"
      }
    },
    {
      "cell_type": "code",
      "source": [
        "from sklearn.preprocessing import StandardScaler\n",
        "\n",
        "\n",
        "# Without scaling\n",
        "model_no_scale = LogisticRegression(max_iter=1000)\n",
        "model_no_scale.fit(X_train, y_train)\n",
        "acc_no_scale = model_no_scale.score(X_test, y_test)\n",
        "\n",
        "\n",
        "# With scaling\n",
        "scaler = StandardScaler()\n",
        "X_train_scaled = scaler.fit_transform(X_train)\n",
        "X_test_scaled = scaler.transform(X_test)\n",
        "\n",
        "\n",
        "model_scaled = LogisticRegression(max_iter=1000)\n",
        "model_scaled.fit(X_train_scaled, y_train)\n",
        "acc_scaled = model_scaled.score(X_test_scaled, y_test)\n",
        "\n",
        "\n",
        "print(\"Accuracy without scaling:\", acc_no_scale)\n",
        "print(\"Accuracy with scaling:\", acc_scaled)"
      ],
      "metadata": {
        "colab": {
          "base_uri": "https://localhost:8080/"
        },
        "id": "3tXLMJeVBr94",
        "outputId": "9741cfa8-849b-4312-897f-394ba81906e0"
      },
      "execution_count": 5,
      "outputs": [
        {
          "output_type": "stream",
          "name": "stdout",
          "text": [
            "Accuracy without scaling: 1.0\n",
            "Accuracy with scaling: 1.0\n"
          ]
        }
      ]
    },
    {
      "cell_type": "markdown",
      "source": [
        "Question 10: Imagine you are working at an e-commerce company that wants to predict which customers will respond to a marketing campaign. Given an imbalanced dataset (only 5% of customers respond), describe the approach you’d take to build a Logistic Regression model — including data handling, feature scaling, balancing classes, hyperparameter tuning, and evaluating the model for this real-world business use case."
      ],
      "metadata": {
        "id": "2GLwILjGBvh4"
      }
    },
    {
      "cell_type": "markdown",
      "source": [
        "Answer:\n",
        "\n",
        " For an imbalanced dataset with only 5% positive responses:\n",
        "Step-by-step approach:\n",
        "Data Understanding & Cleaning – Handle missing values, outliers, and irrelevant features.\n",
        "\n",
        "\n",
        "Feature Engineering & Scaling – Encode categorical variables, normalize/standardize features.\n",
        "\n",
        "\n",
        "Class Balancing Techniques –\n",
        "\n",
        "\n",
        "Oversampling minority class (e.g., SMOTE).\n",
        "\n",
        "\n",
        "Undersampling majority class.\n",
        "\n",
        "\n",
        "Class weights in Logistic Regression (class_weight='balanced').\n",
        "\n",
        "\n",
        "Model Training – Use Logistic Regression with hyperparameter tuning for C, penalty, and solver.\n",
        "\n",
        "\n",
        "Evaluation Metrics – Focus on Precision, Recall, F1-score, and ROC-AUC instead of Accuracy.\n",
        "\n",
        "\n",
        "Cross-validation – To ensure results generalize well to unseen data.\n",
        "\n",
        "\n",
        "Business Consideration –\n",
        "\n",
        "\n",
        "Lower threshold from 0.5 to catch more positives (improve recall).\n",
        "\n",
        "\n",
        "Cost-sensitive learning if false negatives are more harmful.\n"
      ],
      "metadata": {
        "id": "LcNmuOgSB1Rx"
      }
    }
  ]
}